{
 "cells": [
  {
   "cell_type": "markdown",
   "metadata": {},
   "source": [
    "#### CSE -221710315009 -Ch.Sai pranathi"
   ]
  },
  {
   "cell_type": "markdown",
   "metadata": {},
   "source": [
    "#### 1.Create a function to find Factorial of a number using Recursion\n",
    "`"
   ]
  },
  {
   "cell_type": "code",
   "execution_count": 6,
   "metadata": {},
   "outputs": [
    {
     "name": "stdout",
     "output_type": "stream",
     "text": [
      " 5\n",
      "Factorial of the 5 is 120\n"
     ]
    }
   ],
   "source": [
    "def rec_fun(n):\n",
    "    if n==1:\n",
    "        return n\n",
    "    else:\n",
    "        return n*rec_fun(n-1)\n",
    "num = int(input(\" \"))\n",
    "if num<0:\n",
    "    print(\"Factorial of negative numbers is not possible\")\n",
    "elif num == 0:\n",
    "    print(\"Factorial of the 0 is 1\")\n",
    "else:\n",
    "    print(\"Factorial of the\",num,\"is\",rec_fun(num))\n",
    "    "
   ]
  },
  {
   "cell_type": "markdown",
   "metadata": {},
   "source": [
    "#### 2.Create a function and display ‘n’ Fibonacci numbers using Recursion"
   ]
  },
  {
   "cell_type": "code",
   "execution_count": 18,
   "metadata": {},
   "outputs": [
    {
     "name": "stdout",
     "output_type": "stream",
     "text": [
      " 5\n",
      "fibanocci series of 5\n",
      "0\n",
      "1\n",
      "1\n",
      "2\n",
      "3\n"
     ]
    }
   ],
   "source": [
    "def fib(n):\n",
    "    if n<=1:\n",
    "        return n\n",
    "    else:\n",
    "        return (fib(n-1)+fib(n-2))\n",
    "num =int(input(\" \"))\n",
    "if num>=1:\n",
    "    print(\"fibanocci series of\",num)\n",
    "    for i in range(0,num):\n",
    "        print(fib(i))\n",
    "else:\n",
    "    print(\"Enter a positive value\")"
   ]
  },
  {
   "cell_type": "markdown",
   "metadata": {},
   "source": [
    "#### 3.Print sum of list of elements without using sum() function\n"
   ]
  },
  {
   "cell_type": "code",
   "execution_count": 3,
   "metadata": {},
   "outputs": [
    {
     "name": "stdout",
     "output_type": "stream",
     "text": [
      "enter no.of 5\n",
      " 1\n",
      " 2\n",
      " 3\n",
      " 4\n",
      " 5\n",
      "sum of elements in list 15\n"
     ]
    }
   ],
   "source": [
    "n = int(input(\"enter no.of \"))\n",
    "list1 = []\n",
    "tot = 0\n",
    "for i in range(n):\n",
    "    list1.append(int(input(\" \")))\n",
    "for j in range(n):\n",
    "    tot = tot + list1[j]\n",
    "print(\"sum of elements in list\",tot)"
   ]
  },
  {
   "cell_type": "markdown",
   "metadata": {},
   "source": [
    "#### 4.print only even numbers from the list\n"
   ]
  },
  {
   "cell_type": "code",
   "execution_count": 11,
   "metadata": {},
   "outputs": [
    {
     "name": "stdout",
     "output_type": "stream",
     "text": [
      "enter no.of 5\n",
      " 9\n",
      " 14\n",
      " 23\n",
      " 36\n",
      " 53\n",
      "14 36 "
     ]
    }
   ],
   "source": [
    "n = int(input(\"enter no.of \"))\n",
    "list1 = []\n",
    "for i in range(n):\n",
    "    list1.append(int(input(\" \")))\n",
    "for j in range(n):\n",
    "    if(list1[j]%2==0):\n",
    "        print(list1[j] ,end= \" \")"
   ]
  },
  {
   "cell_type": "markdown",
   "metadata": {},
   "source": [
    "#### 5.Write a Python program to get the smallest number from a list and display index of smallest element of the list"
   ]
  },
  {
   "cell_type": "code",
   "execution_count": 9,
   "metadata": {},
   "outputs": [
    {
     "name": "stdout",
     "output_type": "stream",
     "text": [
      "enter no.of 5\n",
      " 4\n",
      " 0\n",
      " 2\n",
      " 1\n",
      " 6\n",
      "minimum number of the list is 0\n",
      "index of minumum number is 1\n"
     ]
    }
   ],
   "source": [
    "n = int(input(\"enter no.of \"))\n",
    "list1 = []\n",
    "for i in range(0,n):\n",
    "    list1.append(int(input(\" \")))\n",
    "small = list1[0]\n",
    "for j in range(1,n):\n",
    "    if(small >= list1[j]):\n",
    "        small = list1[j]\n",
    "        position = j\n",
    "print(\"minimum number of the list is\",small)\n",
    "print(\"index of minumum number is\",position)"
   ]
  },
  {
   "cell_type": "markdown",
   "metadata": {},
   "source": [
    "#### 6.Write a Python program to count the number of even and odd numbers from a series of numbers. \n",
    "- Sample numbers : numbers = [1, 2, 3, 4, 5, 6, 7, 8, 9]\n",
    "- Expected Output :\n",
    "- Number of even numbers : 4\n",
    "- Number of odd numbers : 5\n"
   ]
  },
  {
   "cell_type": "code",
   "execution_count": 15,
   "metadata": {},
   "outputs": [
    {
     "name": "stdout",
     "output_type": "stream",
     "text": [
      "enter no.of 9\n",
      " 1\n",
      " 2\n",
      " 3\n",
      " 4\n",
      " 5\n",
      " 6\n",
      " 7\n",
      " 8\n",
      " 9\n",
      "Number of even numbers : 4\n",
      "Number of odd numbers : 5\n"
     ]
    }
   ],
   "source": [
    "n = int(input(\"enter no.of \"))\n",
    "list1 = []\n",
    "esum = 0\n",
    "osum = 0\n",
    "for i in range(n):\n",
    "    list1.append(int(input(\" \")))\n",
    "for j in range(n):\n",
    "    if(list1[j]%2 == 0):\n",
    "        esum = esum + 1   \n",
    "    else:\n",
    "        osum =osum +1\n",
    "print(\"Number of even numbers :\",esum)\n",
    "print(\"Number of odd numbers :\",osum)\n"
   ]
  },
  {
   "cell_type": "markdown",
   "metadata": {},
   "source": [
    "#### 7.Write a Python function that checks whether a passed string is palindrome or not."
   ]
  },
  {
   "cell_type": "code",
   "execution_count": 4,
   "metadata": {},
   "outputs": [
    {
     "name": "stdout",
     "output_type": "stream",
     "text": [
      " madam\n",
      "palindrome\n"
     ]
    }
   ],
   "source": [
    "def palin(st):\n",
    "    return st == st[::-1]\n",
    "s = input(\" \")\n",
    "s1 = palin(s)\n",
    "if s1:\n",
    "    print(\"palindrome\")\n",
    "else :\n",
    "    print(\"not a palindrome\")"
   ]
  },
  {
   "cell_type": "markdown",
   "metadata": {},
   "source": [
    "#### 8.Write a Python program that prints all the numbers from 0 to 6 except 3 and 6.\n",
    "- Note : Use 'continue' statement.\n",
    "- Expected Output : 0 1 2 4 5\n",
    "\n"
   ]
  },
  {
   "cell_type": "code",
   "execution_count": 1,
   "metadata": {},
   "outputs": [
    {
     "name": "stdout",
     "output_type": "stream",
     "text": [
      "0 1 2 4 5 "
     ]
    }
   ],
   "source": [
    "for i in range(6):\n",
    "    if (i == 3 or i==6):\n",
    "        continue\n",
    "    print(i,end=' ')"
   ]
  },
  {
   "cell_type": "markdown",
   "metadata": {},
   "source": [
    "#### 9.Write a python function to check whether the given number is prime or not"
   ]
  },
  {
   "cell_type": "code",
   "execution_count": 2,
   "metadata": {},
   "outputs": [
    {
     "name": "stdout",
     "output_type": "stream",
     "text": [
      "7\n",
      "Prime Number\n"
     ]
    }
   ],
   "source": [
    "def test_prime(n):\n",
    "    if (n==1):\n",
    "        return \"Not prime number\"\n",
    "    elif (n==2):\n",
    "        return \"Prime Number\"\n",
    "    else:\n",
    "        for x in range(2,n):\n",
    "            if(n % x==0):\n",
    "                return \"Not Prime number\"\n",
    "        return \"Prime Number\"\n",
    "num = int(input(\"\"))\n",
    "print(test_prime(num))"
   ]
  },
  {
   "cell_type": "markdown",
   "metadata": {},
   "source": [
    "#### 10.Write a python function to check whether the given number is Adam number or not\n",
    "- Example: \n",
    "- Input : 12\n",
    "- Output : Adam Number\n",
    "\n",
    "- Explanation: 12*12 = 144\n",
    "- Reverse of 12 is 21 → 21*21 =441\n",
    "- Reverse of 144 == 441\n"
   ]
  },
  {
   "cell_type": "code",
   "execution_count": 1,
   "metadata": {},
   "outputs": [
    {
     "name": "stdout",
     "output_type": "stream",
     "text": [
      "enter a number12\n",
      "Adam number\n"
     ]
    }
   ],
   "source": [
    "n = int(input(\"enter a number\"))#12\n",
    "if int(str(n**2)[::-1]) == int(str(n)[::-1])**2:\n",
    "    print(\"Adam number\")\n",
    "else:\n",
    "    print(\"Not an Adam Number\")\n"
   ]
  },
  {
   "cell_type": "code",
   "execution_count": null,
   "metadata": {},
   "outputs": [],
   "source": []
  }
 ],
 "metadata": {
  "kernelspec": {
   "display_name": "Python 3",
   "language": "python",
   "name": "python3"
  },
  "language_info": {
   "codemirror_mode": {
    "name": "ipython",
    "version": 3
   },
   "file_extension": ".py",
   "mimetype": "text/x-python",
   "name": "python",
   "nbconvert_exporter": "python",
   "pygments_lexer": "ipython3",
   "version": "3.7.4"
  }
 },
 "nbformat": 4,
 "nbformat_minor": 2
}
