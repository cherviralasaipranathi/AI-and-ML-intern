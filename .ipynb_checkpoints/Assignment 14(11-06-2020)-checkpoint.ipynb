{
 "cells": [
  {
   "cell_type": "markdown",
   "metadata": {},
   "source": [
    "### Question 1:\n",
    "[clickhere](https://www.codechef.com/problems/RECNDSTR)\n",
    "``` Chef has a string $S$ consisting of lowercase English characters. Chef defined functions left shift $L(X)$ and right shift $R(X)$ as follows.\n",
    "$L(X)$ is defined as shifting all characters of string $X$ one step towards the left and moving the first character to the end.\n",
    "$R(X)$ is defined as shifting all characters of string $X$ one step towards the right and moving the last character to the beginning.\n",
    "For example, L(\"abcd\") = \"bcda\" and R(\"abcd\") = \"dabc\"\n",
    "Chef wants to find out whether there exists a string $V$ of the same length as $S$ such that both $L(V) = S$ and $R(V) = S$ holds ```\n"
   ]
  },
  {
   "cell_type": "code",
   "execution_count": 1,
   "metadata": {},
   "outputs": [
    {
     "name": "stdout",
     "output_type": "stream",
     "text": [
      "4\n",
      "a\n",
      "ab\n",
      "abcd\n",
      "aaaa\n",
      "YES\n",
      "YES\n",
      "NO\n",
      "YES\n"
     ]
    }
   ],
   "source": [
    "def L(x):\n",
    "    return x[1:]+x[0]\n",
    "def R(x):\n",
    "    return x[-1]+x[0:len(x)-1]\n",
    "n = int(input())\n",
    "list1 = [input() for i in range(n)]\n",
    "for x in list1:\n",
    "    print(\"YES\") if L(x) == R(x) else print(\"NO\")"
   ]
  },
  {
   "cell_type": "markdown",
   "metadata": {},
   "source": [
    "### Question 2:\n",
    "[clickhere](https://www.hackerrank.com/challenges/beautiful-days-at-the-movies/problem)\n",
    "```Lily likes to play games with integers. She has created a new game where she determines the difference between a number and its reverse. For instance, given the number , its reverse is . Their difference is . The number  reversed is , and their difference is .\n",
    "\n",
    "She decides to apply her game to decision making. She will look at a numbered range of days and will only go to a movie on a beautiful day.\n",
    "\n",
    "Given a range of numbered days,  and a number , determine the number of days in the range that are beautiful. Beautiful numbers are defined as numbers where  is evenly divisible by . If a day's value is a beautiful number, it is a beautiful day. Print the number of beautiful days in the range. ```"
   ]
  },
  {
   "cell_type": "code",
   "execution_count": 1,
   "metadata": {},
   "outputs": [
    {
     "name": "stdout",
     "output_type": "stream",
     "text": [
      "20 23 6\n",
      "2\n"
     ]
    }
   ],
   "source": [
    "i,j,k = [int(x) for x in input().split()]\n",
    "count = 0\n",
    "for x in range(i,j+1):\n",
    "    y = (x - int(str(x)[::-1]))\n",
    "    if y % k == 0:\n",
    "        count += 1\n",
    "print(count)"
   ]
  },
  {
   "cell_type": "markdown",
   "metadata": {},
   "source": [
    "### Question 3: \n",
    "[click here](https://www.hackerrank.com/challenges/birthday-cake-candles/problem)\n",
    "```You are in charge of the cake for your niece's birthday and have decided the cake will have one candle for each year of her total age. When she blows out the candles, she’ll only be able to blow out the tallest ones. Your task is to find out how many candles she can successfully blow out.\n",
    "For example, if your niece is turning  years old, and the cake will have  candles of height , , , , she will be able to blow out  candles successfully, since the tallest candles are of height  and there are  such candles.```"
   ]
  },
  {
   "cell_type": "code",
   "execution_count": 2,
   "metadata": {},
   "outputs": [
    {
     "name": "stdout",
     "output_type": "stream",
     "text": [
      "4\n",
      "3 2 1 3\n",
      "2\n"
     ]
    }
   ],
   "source": [
    "n = input()\n",
    "arr = input().split()\n",
    "Max, count = 0, 0\n",
    "for x in arr:\n",
    "    x = int(x)\n",
    "    if x > Max:\n",
    "        Max = x\n",
    "        count = 1\n",
    "    elif x == Max:\n",
    "        count += 1\n",
    "print(count) "
   ]
  },
  {
   "cell_type": "markdown",
   "metadata": {},
   "source": [
    "### Question 4:Consider a non-empty array inarr containing non-zero positive single digit integers separated by “,” (comma).Print a string based on the below logic:\n",
    "` From all possible unique three digit number combinations with the elements of inarr\n",
    "Identify the maximum number maxnum among the three digit combinations formed.\n",
    "Print the maxnum followed by the total number of unique digit combinations formed,separating them with a “,” (comma)\n",
    "Assumption: inarr will contain at least 3 elements\n",
    "Note : An element present at a particular index should not be considered more than once while forming a combination.\n",
    "Input format:\n",
    "Read the array inarr from the standard input stream\n",
    "Output format:\n",
    "Print the output to the standard output stream\n",
    "\n",
    "Sample Input : 1,2,1\n",
    "Sample Output: 211,3\n",
    "\n",
    "Sample Input:1,2,1,4\n",
    "Sample output:4211,12 `"
   ]
  },
  {
   "cell_type": "code",
   "execution_count": null,
   "metadata": {},
   "outputs": [],
   "source": []
  },
  {
   "cell_type": "markdown",
   "metadata": {},
   "source": [
    "### Question 5:(InfyTQ)For a given positive number num,identify the palindrome formed by performing the following operations\n",
    "Add num and its reverse\n",
    "Check whether the sum is palindrome or not.If not,add the sum and its reverse and repeat the process until a palindrome is obtained.\n",
    "Input format : Read num from the standard input stream\n",
    "Output format: print the palindrome calculated to the standard output stream\n",
    "\n",
    "Sample input : 124\n",
    "Sample Output : 545\n",
    "\n",
    "Sample input:195\n",
    "Sample output: 9339 \n"
   ]
  },
  {
   "cell_type": "code",
   "execution_count": 1,
   "metadata": {},
   "outputs": [
    {
     "name": "stdout",
     "output_type": "stream",
     "text": [
      "124\n",
      "545\n"
     ]
    }
   ],
   "source": [
    "def rev_number(n):\n",
    "    s = 0\n",
    "    while True:\n",
    "        k = str(n)\n",
    "        if k == k[::-1]:\n",
    "            break\n",
    "        else:\n",
    "            m = int(k[::-1])\n",
    "            n += m\n",
    "            s += 1\n",
    "            return n \n",
    "num = int(input(\"\"))\n",
    "print(rev_number(num))"
   ]
  },
  {
   "cell_type": "markdown",
   "metadata": {},
   "source": [
    "### Question 6:\n",
    "[clickhere](https://www.codechef.com/problems/SLAEL)\n",
    "`` Find the length of the longest contiguous segment in an array, in which if a given element \n",
    "K\n",
    "K is inserted, \n",
    "K\n",
    "K becomes the second largest element of that subarray.\n",
    "Input:\n",
    "The first line will contain T, number of test cases. Then the test cases follow.\n",
    "The first line of each test case contains two integers N and K\n",
    "The next line contains N space-separated integers Ai denoting the elements of the array.``\n"
   ]
  },
  {
   "cell_type": "code",
   "execution_count": null,
   "metadata": {},
   "outputs": [],
   "source": []
  }
 ],
 "metadata": {
  "kernelspec": {
   "display_name": "Python 3",
   "language": "python",
   "name": "python3"
  },
  "language_info": {
   "codemirror_mode": {
    "name": "ipython",
    "version": 3
   },
   "file_extension": ".py",
   "mimetype": "text/x-python",
   "name": "python",
   "nbconvert_exporter": "python",
   "pygments_lexer": "ipython3",
   "version": "3.7.4"
  }
 },
 "nbformat": 4,
 "nbformat_minor": 2
}
