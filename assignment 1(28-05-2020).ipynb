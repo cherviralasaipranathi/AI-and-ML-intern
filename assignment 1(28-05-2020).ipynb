{
 "cells": [
  {
   "cell_type": "markdown",
   "metadata": {},
   "source": [
    "### 1.Generate the following pattern\n",
    "    *\n",
    "    * *\n",
    "    * * *\n",
    "    * * * *\n",
    "    * * * * *\n"
   ]
  },
  {
   "cell_type": "code",
   "execution_count": 7,
   "metadata": {},
   "outputs": [
    {
     "name": "stdout",
     "output_type": "stream",
     "text": [
      "Enter number of rows 5\n",
      "* \n",
      "* * \n",
      "* * * \n",
      "* * * * \n",
      "* * * * * \n"
     ]
    }
   ],
   "source": [
    "r = int(input(\"Enter number of rows \"))\n",
    "for i in range(0, r):\n",
    "    for j in range(0, i + 1):\n",
    "        print(\"*\", end=' ')\n",
    "    print(\"\\r\")"
   ]
  },
  {
   "cell_type": "markdown",
   "metadata": {},
   "source": [
    "###  2. Display multiplication table of K. Take k value from user"
   ]
  },
  {
   "cell_type": "code",
   "execution_count": 18,
   "metadata": {},
   "outputs": [
    {
     "name": "stdout",
     "output_type": "stream",
     "text": [
      "enter number5\n",
      "5 X 1 = 5\n",
      "5 X 2 = 10\n",
      "5 X 3 = 15\n",
      "5 X 4 = 20\n",
      "5 X 5 = 25\n",
      "5 X 6 = 30\n",
      "5 X 7 = 35\n",
      "5 X 8 = 40\n",
      "5 X 9 = 45\n",
      "5 X 10 = 50\n"
     ]
    }
   ],
   "source": [
    "k = int(input(\"enter number\"))\n",
    "for i in range(1,11):\n",
    "    r=k*i\n",
    "    print(k,'X',i,'=',r)"
   ]
  },
  {
   "cell_type": "markdown",
   "metadata": {},
   "source": [
    "### 3. Roots of quadratic equation Take the coefficients a,b,c from the user"
   ]
  },
  {
   "cell_type": "code",
   "execution_count": 4,
   "metadata": {},
   "outputs": [
    {
     "name": "stdout",
     "output_type": "stream",
     "text": [
      "Insert a: 1\n",
      "Insert  b: 2\n",
      "Insert  c: 1\n",
      "Roots:  -1.0 -1.0\n"
     ]
    }
   ],
   "source": [
    "import math\n",
    "a = float(input(\"Insert a: \"))\n",
    "b = float(input(\"Insert  b: \"))\n",
    "c = float(input(\"Insert  c: \"))\n",
    "d = b**2 - 4 * a * c\n",
    "if d >= 0:\n",
    "    x1=(-b+math.sqrt(d))/2*a\n",
    "    x2=(-b-math.sqrt(d))/2*a\n",
    "else:\n",
    "    x1= complex((-b/(2*a)),math.sqrt(-d)/(2*a))\n",
    "    x2= complex((-b/(2*a)),-math.sqrt(-d)/(2*a))\n",
    "\n",
    "if d > 0:\n",
    "    print(\"Roots: \", x1, x2)\n",
    "elif d == 0:\n",
    "    print(\"Roots: \", x1, x2)\n",
    "else:\n",
    "    print(\"Roots: \", x1, \" and \", x2)"
   ]
  },
  {
   "cell_type": "markdown",
   "metadata": {},
   "source": [
    "### 4. Convert a decimal number to Binary\n"
   ]
  },
  {
   "cell_type": "code",
   "execution_count": 9,
   "metadata": {},
   "outputs": [
    {
     "name": "stdout",
     "output_type": "stream",
     "text": [
      "Enter a decimal value4\n",
      "0b100\n"
     ]
    }
   ],
   "source": [
    "dec = int(input(\"Enter a decimal value\"))\n",
    "print(bin(dec))"
   ]
  },
  {
   "cell_type": "markdown",
   "metadata": {},
   "source": [
    "### 5. Generate first N number of Fibonacci numbers. Take N value from the user\n"
   ]
  },
  {
   "cell_type": "code",
   "execution_count": 1,
   "metadata": {},
   "outputs": [
    {
     "name": "stdout",
     "output_type": "stream",
     "text": [
      "enter range5\n",
      "0 1 1 2 3 "
     ]
    }
   ],
   "source": [
    "n1=0\n",
    "n2=1\n",
    "n3 = int(input(\"enter range\"))\n",
    "print(n1,n2,end=\" \")\n",
    "for i in range(2,n3):\n",
    "    n3=n1+n2\n",
    "    print(n3,end=\" \")\n",
    "    n1=n2\n",
    "    n2=n3"
   ]
  },
  {
   "cell_type": "code",
   "execution_count": 5,
   "metadata": {},
   "outputs": [
    {
     "ename": "SyntaxError",
     "evalue": "invalid syntax (<ipython-input-5-da4975369dc3>, line 3)",
     "output_type": "error",
     "traceback": [
      "\u001b[1;36m  File \u001b[1;32m\"<ipython-input-5-da4975369dc3>\"\u001b[1;36m, line \u001b[1;32m3\u001b[0m\n\u001b[1;33m    a b c = 1000 2000 3000\u001b[0m\n\u001b[1;37m      ^\u001b[0m\n\u001b[1;31mSyntaxError\u001b[0m\u001b[1;31m:\u001b[0m invalid syntax\n"
     ]
    }
   ],
   "source": []
  },
  {
   "cell_type": "code",
   "execution_count": null,
   "metadata": {},
   "outputs": [],
   "source": []
  }
 ],
 "metadata": {
  "kernelspec": {
   "display_name": "Python 3",
   "language": "python",
   "name": "python3"
  },
  "language_info": {
   "codemirror_mode": {
    "name": "ipython",
    "version": 3
   },
   "file_extension": ".py",
   "mimetype": "text/x-python",
   "name": "python",
   "nbconvert_exporter": "python",
   "pygments_lexer": "ipython3",
   "version": "3.7.4"
  }
 },
 "nbformat": 4,
 "nbformat_minor": 2
}
